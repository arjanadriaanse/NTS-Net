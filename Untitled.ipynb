{
 "cells": [
  {
   "cell_type": "code",
   "execution_count": null,
   "metadata": {
    "colab": {},
    "colab_type": "code",
    "id": "xv_wXABTzzJQ"
   },
   "outputs": [],
   "source": [
    "!wget http://www.vision.caltech.edu/visipedia-data/CUB-200-2011/CUB_200_2011.tgz -O - | tar -xzf -"
   ]
  },
  {
   "cell_type": "code",
   "execution_count": null,
   "metadata": {
    "colab": {
     "base_uri": "https://localhost:8080/",
     "height": 242
    },
    "colab_type": "code",
    "id": "RBWo_levzzKf",
    "outputId": "1e902a18-9dc7-4c1c-e0d3-bcb379cd2090",
    "scrolled": true
   },
   "outputs": [],
   "source": [
    "!pip install scipy==1.1.0"
   ]
  },
  {
   "cell_type": "code",
   "execution_count": null,
   "metadata": {
    "colab": {
     "base_uri": "https://localhost:8080/",
     "height": 54
    },
    "colab_type": "code",
    "id": "6RbxMED8zzJ5",
    "outputId": "75a8da1a-203e-467d-aef3-c0bbfa62e6af"
   },
   "outputs": [],
   "source": [
    "!git init .\n",
    "!git remote add origin https://github.com/arjanadriaanse/NTS-Net.git"
   ]
  },
  {
   "cell_type": "code",
   "execution_count": null,
   "metadata": {
    "colab": {
     "base_uri": "https://localhost:8080/",
     "height": 73
    },
    "colab_type": "code",
    "id": "ihw5dQ0Y1DSP",
    "outputId": "4cf6ede9-ba8a-4b94-8e3b-4d09f5e2f476"
   },
   "outputs": [],
   "source": [
    "!git pull origin master"
   ]
  },
  {
   "cell_type": "code",
   "execution_count": null,
   "metadata": {
    "colab": {
     "base_uri": "https://localhost:8080/",
     "height": 893
    },
    "colab_type": "code",
    "id": "-jknQXT11obU",
    "outputId": "31fd001d-4e19-49bf-cbd9-053479063b4b",
    "scrolled": true
   },
   "outputs": [],
   "source": [
    "!python train.py"
   ]
  }
 ],
 "metadata": {
  "accelerator": "GPU",
  "colab": {
   "name": "Untitled.ipynb",
   "provenance": []
  },
  "kernelspec": {
   "display_name": "Python 3",
   "language": "python",
   "name": "python3"
  }
 },
 "nbformat": 4,
 "nbformat_minor": 1
}
