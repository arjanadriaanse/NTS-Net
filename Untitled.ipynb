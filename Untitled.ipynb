{
  "nbformat": 4,
  "nbformat_minor": 0,
  "metadata": {
    "kernelspec": {
      "name": "python3",
      "display_name": "Python 3"
    },
    "colab": {
      "name": "Untitled.ipynb",
      "provenance": []
    },
    "accelerator": "GPU"
  },
  "cells": [
    {
      "cell_type": "code",
      "metadata": {
        "id": "xv_wXABTzzJQ",
        "colab_type": "code",
        "colab": {}
      },
      "source": [
        "!wget http://www.vision.caltech.edu/visipedia-data/CUB-200-2011/CUB_200_2011.tgz -O - | tar -xzf -"
      ],
      "execution_count": 0,
      "outputs": []
    },
    {
      "cell_type": "code",
      "metadata": {
        "id": "RBWo_levzzKf",
        "colab_type": "code",
        "colab": {}
      },
      "source": [
        "!pip install scipy==1.1.0"
      ],
      "execution_count": 0,
      "outputs": []
    },
    {
      "cell_type": "code",
      "metadata": {
        "id": "6RbxMED8zzJ5",
        "colab_type": "code",
        "colab": {}
      },
      "source": [
        "!git init .\n",
        "!git remote add origin https://github.com/arjanadriaanse/NTS-Net.git"
      ],
      "execution_count": 0,
      "outputs": []
    },
    {
      "cell_type": "code",
      "metadata": {
        "id": "ihw5dQ0Y1DSP",
        "colab_type": "code",
        "colab": {}
      },
      "source": [
        "!git pull origin master"
      ],
      "execution_count": 0,
      "outputs": []
    },
    {
      "cell_type": "code",
      "metadata": {
        "id": "-jknQXT11obU",
        "colab_type": "code",
        "colab": {}
      },
      "source": [
        "!python train.py"
      ],
      "execution_count": 0,
      "outputs": []
    }
  ]
}
